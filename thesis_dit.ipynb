{
  "nbformat": 4,
  "nbformat_minor": 0,
  "metadata": {
    "colab": {
      "name": "thesis_dit.ipynb",
      "version": "0.3.2",
      "provenance": [],
      "collapsed_sections": [],
      "toc_visible": true,
      "include_colab_link": true
    },
    "kernelspec": {
      "name": "python3",
      "display_name": "Python 3"
    }
  },
  "cells": [
    {
      "cell_type": "markdown",
      "metadata": {
        "id": "view-in-github",
        "colab_type": "text"
      },
      "source": [
        "<a href=\"https://colab.research.google.com/github/spapadiamantis/irony_detection_thesis/blob/master/thesis_dit.ipynb\" target=\"_parent\"><img src=\"https://colab.research.google.com/assets/colab-badge.svg\" alt=\"Open In Colab\"/></a>"
      ]
    },
    {
      "metadata": {
        "id": "w0Vcly-WhtZE",
        "colab_type": "text"
      },
      "cell_type": "markdown",
      "source": [
        "# DEEP LEARNING FOR IRONY DETECTION\n",
        "\n",
        "This python notebook was developed as a part of my Bachelor Thesis at DIT-UOA.\n",
        "\n",
        "In this notebook I developped a neural network model for irony detection in short texts using a deep CNN architecture."
      ]
    },
    {
      "metadata": {
        "id": "lkyUGgSbRZyO",
        "colab_type": "text"
      },
      "cell_type": "markdown",
      "source": [
        "# Importing libraries and data"
      ]
    },
    {
      "metadata": {
        "id": "XqbvFIVvi2St",
        "colab_type": "text"
      },
      "cell_type": "markdown",
      "source": [
        "\n",
        "\n",
        "In this notebook we use the [Keras API](https://keras.io/) of [Tensorflow](https://www.tensorflow.org/) to develop our machine learning model  and for some parts of  preprocessing  as well. In preprocessing [Sklearn](https://scikit-learn.org/stable/) utensils and [NLTK ](https://www.nltk.org)are also used. We also use Numpy and Pandas for data manipulation."
      ]
    },
    {
      "metadata": {
        "id": "9fJwqkw_dfVd",
        "colab_type": "code",
        "outputId": "c590c275-e7cb-4ae3-f2b1-abdd3882f669",
        "colab": {
          "base_uri": "https://localhost:8080/",
          "height": 207
        }
      },
      "cell_type": "code",
      "source": [
        "!pip install langid"
      ],
      "execution_count": 0,
      "outputs": [
        {
          "output_type": "stream",
          "text": [
            "Collecting langid\n",
            "\u001b[?25l  Downloading https://files.pythonhosted.org/packages/ea/4c/0fb7d900d3b0b9c8703be316fbddffecdab23c64e1b46c7a83561d78bd43/langid-1.1.6.tar.gz (1.9MB)\n",
            "\u001b[K    100% |████████████████████████████████| 1.9MB 12.2MB/s \n",
            "\u001b[?25hRequirement already satisfied: numpy in /usr/local/lib/python3.6/dist-packages (from langid) (1.14.6)\n",
            "Building wheels for collected packages: langid\n",
            "  Building wheel for langid (setup.py) ... \u001b[?25ldone\n",
            "\u001b[?25h  Stored in directory: /root/.cache/pip/wheels/29/bc/61/50a93be85d1afe9436c3dc61f38da8ad7b637a38af4824e86e\n",
            "Successfully built langid\n",
            "Installing collected packages: langid\n",
            "Successfully installed langid-1.1.6\n"
          ],
          "name": "stdout"
        }
      ]
    },
    {
      "metadata": {
        "id": "NdjcLWj9nDMH",
        "colab_type": "code",
        "outputId": "eba8add7-57c4-49fe-bc9e-0705aa8fcc30",
        "colab": {
          "base_uri": "https://localhost:8080/",
          "height": 85
        }
      },
      "cell_type": "code",
      "source": [
        "import numpy as np #used  for data manipulation\n",
        "import pandas as pd\n",
        "from sklearn import utils as ut\n",
        "import json          #used to save the model\n",
        "import keras         #importing Tenorflow's Keras API and preprocessing tools\n",
        "import keras.preprocessing.text as kpt\n",
        "from keras.preprocessing.text import Tokenizer\n",
        "from keras.preprocessing.text import one_hot\n",
        "from keras.preprocessing.sequence import pad_sequences\n",
        "import nltk          # impoting NLTK to use for stopwords removal\n",
        "nltk.download('stopwords')\n",
        "import tensorflow as tf\n",
        "from keras import regularizers\n",
        "nltk.download('punkt')\n",
        "from langid import classify #used for language filtering\n",
        "from textblob import TextBlob #used for spell corrections and sentiment analysis\n"
      ],
      "execution_count": 0,
      "outputs": [
        {
          "output_type": "stream",
          "text": [
            "[nltk_data] Downloading package stopwords to /root/nltk_data...\n",
            "[nltk_data]   Package stopwords is already up-to-date!\n",
            "[nltk_data] Downloading package punkt to /root/nltk_data...\n",
            "[nltk_data]   Package punkt is already up-to-date!\n"
          ],
          "name": "stdout"
        }
      ]
    },
    {
      "metadata": {
        "id": "GKhLbpOsSav7",
        "colab_type": "text"
      },
      "cell_type": "markdown",
      "source": [
        "Reading data from .csv file and removing stopwords using the natural language toolkit. \n",
        "For our data set we used a 1.100.000 line csv file containing Reddit comments labeled as \n",
        "ironic or non-ironic.\n",
        "\n",
        "Dataset repo: https://www.kaggle.com/danofer/sarcasm\n",
        "\n",
        "To run this cell properly you have to upload the \"train-balanced-sarcasm.csv\" to your files.\n",
        "\n",
        "The initial csv file consisted of 10 columns comprising of various types of data like the number of downvotes and upvotes for the comment, the sumbreddit, parent comment and other.  I decided to only use the content of the comments as a feature dropping the rest."
      ]
    },
    {
      "metadata": {
        "id": "81aV3B39TPpU",
        "colab_type": "text"
      },
      "cell_type": "markdown",
      "source": [
        "Importing data from csv file using pandas function. Creating a pandas data frame"
      ]
    },
    {
      "metadata": {
        "id": "P37UbBQWTMob",
        "colab_type": "code",
        "outputId": "9ab7a83c-07b9-4f50-d730-953e4e81e995",
        "colab": {
          "base_uri": "https://localhost:8080/",
          "height": 68
        }
      },
      "cell_type": "code",
      "source": [
        "#reading csv data. We skip certain lines because the data file was \n",
        "#corrupted and we could not properly import\n",
        "data = pd.read_csv('train-balanced-sarcasm.csv',skiprows= [997045,112610,291851])\n",
        "print(\"Dataset columns:\")\n",
        "#print(list(dataset.columns.values))\n",
        "print(\"Initial dataframe shape: \",data.shape)\n",
        "data = data[['label','comment']]\n",
        "\n",
        "print(\"Dataframe shape for eperiment: \",data.shape)"
      ],
      "execution_count": 0,
      "outputs": [
        {
          "output_type": "stream",
          "text": [
            "Dataset columns:\n",
            "Initial dataframe shape:  (1010823, 10)\n",
            "Dataframe shape for eperiment:  (1010823, 2)\n"
          ],
          "name": "stdout"
        }
      ]
    },
    {
      "metadata": {
        "id": "fKmC95FuLr4v",
        "colab_type": "text"
      },
      "cell_type": "markdown",
      "source": [
        "#Preprocessing"
      ]
    },
    {
      "metadata": {
        "id": "e6ln9pamADfm",
        "colab_type": "text"
      },
      "cell_type": "markdown",
      "source": [
        "##  Basic dataset cleaning\n",
        "\n",
        "The initial dataset contained a lot of information that as not useful for our \n",
        "experiment. For the sake of conveniance and resource economy, I created a new csv data file after performing some basic operations on the data set. \n",
        "\n",
        "As a first step of preprocessing I decided to perform language filtering on the dataset, using the [TextBlob](https://textblob.readthedocs.io/en/dev/quickstart.html) WordNet integration, subsequently eliminating non-english comments. Through this process around 150000 comments were eliminated\n",
        "\n",
        "I then used spelling corrections and performed lexicon-based sentiment analysis using the same library. The idea behind this is creating an extra feature for the model to train if needed.\n",
        "\n",
        "In this cell I also include a very simple progress tracer, that I found online because of the size of the data set. It can be used for development reasons and appears commented in the code."
      ]
    },
    {
      "metadata": {
        "id": "7eSGV0NkHHUe",
        "colab_type": "code",
        "colab": {}
      },
      "cell_type": "code",
      "source": [
        "#Defining tracer functions\n",
        "\n",
        "def progress_coroutine(print_on = 10000):\n",
        "    print(\"Starting progress monitor\")\n",
        "\n",
        "    iterations = 0\n",
        "    while True:\n",
        "        yield\n",
        "        iterations += 1\n",
        "        if (iterations % print_on == 0):\n",
        "            print(\"{} iterations done\".format(iterations))\n",
        "           \n",
        "          \n",
        "def trace_progress(func, progress = None):\n",
        "    def callf(*args, **kwargs):\n",
        "        if (progress is not None):\n",
        "            progress.send(None)\n",
        "\n",
        "        return func(*args, **kwargs)\n",
        "\n",
        "    return callf"
      ],
      "execution_count": 0,
      "outputs": []
    },
    {
      "metadata": {
        "id": "xw_fUY8SIA_C",
        "colab_type": "code",
        "colab": {}
      },
      "cell_type": "code",
      "source": [
        "#Language filtering\n",
        "\n",
        "#Applying pandas  lambda function to create a new dataframe column with language tags\n",
        "data['langid']= data['comment'].dropna().apply(lambda x: classify(x)[0])\n",
        "#co1 = progress_coroutine()\n",
        "#data['langid']= data['comment'].dropna().apply(trace_progress((lambda x: classify(x)[0]),progress = co1))\n",
        "\n",
        "#dropping comments\n",
        "data = data[data['langid'] == 'en']\n",
        "#printing datashape to see how many comments were dropped\n",
        "#print(\"Datashape after language filtering: \" data.shape)\n",
        "\n",
        "\n",
        "#Sentiment analysis \n",
        "data['sentiment'] = data['comment'].apply(lambda x: TextBlob(x).sentiment)\n",
        "#splittin sentiment analysis tuple into separate columns\n",
        "data['polarity'] = data['sentiment'].apply(lambda x: x[0] )\n",
        "data['subjectivity'] = data['sentiment'].apply(lambda x: x[1] )\n",
        "#co3 = progress_coroutine()\n",
        "#data['sentiment'] = data['comment'].apply(trace_progress((lambda x: TextBlob(x).sentiment),progress = co3))\n",
        "\n",
        "\n",
        "\"\"\"\n",
        "#Spelling Correction\n",
        "#commented for being computationally expensive\n",
        "co2 = progress_coroutine()\n",
        "data['comment'] = data['comment'].apply(trace_progress((lambda x: TextBlob(x).correct()),progress = co2))\n",
        "\n",
        "\"\"\" \n",
        "\n",
        "#Droping features I won't be using\n",
        "dataset = data[['label','comment','polarity','subjectivity']]\n",
        "\n",
        "dataset.to_csv(\"clean_set.csv\", sep=',', encoding='utf-8')\n",
        "\n",
        "\n"
      ],
      "execution_count": 0,
      "outputs": []
    },
    {
      "metadata": {
        "id": "3-wrOgsRO3oi",
        "colab_type": "text"
      },
      "cell_type": "markdown",
      "source": [
        "## Text preprocessing\n",
        "\n",
        "In this section I perform text preprocessing after having dropped any unnecessary data. To reduce noise we initially clean text at character level, removing punctuation and numbers, using regular expressions. We then tokenize every string, perform stopwords removal and stemming using the NLTK Lancaster stemmer."
      ]
    },
    {
      "metadata": {
        "id": "3WUQ0IcwZmwj",
        "colab_type": "code",
        "colab": {}
      },
      "cell_type": "code",
      "source": [
        "\n",
        "# Simple stemming function for sentences \n",
        "from nltk.tokenize import sent_tokenize, word_tokenize\n",
        "\n",
        "def stemSentence(sentence):\n",
        "    \n",
        "    token_words=word_tokenize(sentence)\n",
        "    token_words\n",
        "    stem_sentence=[]\n",
        "    for word in token_words:\n",
        "        stem_sentence.append(lancaster.stem(word))\n",
        "        stem_sentence.append(\" \")\n",
        "    return \"\".join(stem_sentence)"
      ],
      "execution_count": 0,
      "outputs": []
    },
    {
      "metadata": {
        "id": "s0tVHyHa-QUC",
        "colab_type": "code",
        "colab": {}
      },
      "cell_type": "code",
      "source": [
        "#This is just loading code for the clean csv file\n",
        "#in case you have already processed it\n",
        "data = pd.read_csv('clean_set.csv',skiprows= [12693,24722,997045,112610,291851]) \n",
        "print(data.shape)\n",
        "print(list(data.columns.values))\n",
        "\n",
        "data = data[['label','comment']]"
      ],
      "execution_count": 0,
      "outputs": []
    },
    {
      "metadata": {
        "id": "By5J_ilEn9h9",
        "colab_type": "code",
        "outputId": "4452de5c-ea8b-4c08-d956-324d54425867",
        "colab": {
          "base_uri": "https://localhost:8080/",
          "height": 34
        }
      },
      "cell_type": "code",
      "source": [
        "from nltk.corpus import stopwords\n",
        "from sklearn.utils import shuffle\n",
        "import string\n",
        "from nltk.stem import LancasterStemmer\n",
        "\n",
        "stop = stopwords.words('english')  #downloading stopwords\n",
        "\n",
        "\n",
        "#staring preprocessin\n",
        "import re\n",
        "#removing punctuation and numbers from texts\n",
        "#data['comment'] = data['comment'].str.translate(None, string.punctuation)\n",
        "\n",
        "data['comment'] =  data['comment'].str.replace('[^\\w\\s]','')\n",
        "data['comment'] =  data['comment'].str.replace('[0-9]+','')\n",
        "#data['comment'] = data['comment'].apply(lambda x: TextBlob(x).correct())\n",
        "#creating a sentiment analysis feature to use while training and validation\n",
        "\n",
        "lancaster=LancasterStemmer()\n",
        "data['comment'] = data['comment'].dropna().apply(lambda x: stemSentence(x))\n",
        "\n",
        "\n",
        "\n",
        "#splitting comments and changing uppercase to lowercase \n",
        "data['comment'] = data['comment'].str.lower().str.split()\n",
        "#removing stopwords\n",
        "data['comment'] = data['comment'].dropna().apply(lambda x: [item for item in x if item not in stop])\n",
        "\n",
        "\n",
        "#creating dataset and shuffling containts using sklearn\n",
        "dataset = data[['label','comment']]\n",
        "dataset = shuffle(dataset)\n",
        "\n",
        "#printing dataset to visualize he final shape of the data\n",
        "print(dataset.shape)\n",
        "\n"
      ],
      "execution_count": 0,
      "outputs": [
        {
          "output_type": "stream",
          "text": [
            "(954151, 2)\n"
          ],
          "name": "stdout"
        }
      ]
    },
    {
      "metadata": {
        "id": "jajeefmySjML",
        "colab_type": "code",
        "colab": {}
      },
      "cell_type": "code",
      "source": [
        "#this is a code snippet to normalize sentiment polarity  if used\n",
        "\n",
        "data['polarity'] = data['polarity'].dropna().apply(lambda x: 1 if x >0 )\n",
        "data['polarity'] = data['polarity'].dropna().apply(lambda x: -1 if x<0)\n",
        "data['polarity'] = data['polarity'].dropna().apply(lambda x: 0 if x==0)"
      ],
      "execution_count": 0,
      "outputs": []
    },
    {
      "metadata": {
        "id": "byeIUUvx3hqD",
        "colab_type": "text"
      },
      "cell_type": "markdown",
      "source": [
        "## Preparing data \n",
        "\n",
        "The input layer of our model is comprised of an Embedding layer. In order to train those embeddings it is imperative that we encode our texts in some way and adjust them to specific length. To achieve this I used one hot encoding for all comments and then padded the texts to a maximum length of 20.\n",
        "\n"
      ]
    },
    {
      "metadata": {
        "id": "17WGb_36p3yp",
        "colab_type": "code",
        "outputId": "73deccdb-2329-428f-b712-a22eedb15bd3",
        "colab": {
          "base_uri": "https://localhost:8080/",
          "height": 187
        }
      },
      "cell_type": "code",
      "source": [
        "\n",
        "dataset_x = dataset[['comment']]\n",
        "#print(dataset_x)\n",
        "\n",
        "vocab_size = 20000 # number of words in our vocabulary \n",
        "\n",
        "#encoding texts using one hot encoding\n",
        "encoded_docs = [one_hot(str(d), vocab_size) for d in dataset_x['comment'] ]\n",
        "print(encoded_docs)\n",
        "max_length = 20\n",
        "\n",
        "#padding texts\n",
        "padded_docs = pad_sequences(encoded_docs, maxlen=max_length, padding='post')\n",
        "\n",
        "#reseting dataset as the padded versionof itself\n",
        "dataset_x = padded_docs\n",
        "#print(dataset_x)\n"
      ],
      "execution_count": 0,
      "outputs": [
        {
          "output_type": "stream",
          "text": [
            "IOPub data rate exceeded.\n",
            "The notebook server will temporarily stop sending output\n",
            "to the client in order to avoid crashing it.\n",
            "To change this limit, set the config variable\n",
            "`--NotebookApp.iopub_data_rate_limit`.\n",
            "\n",
            "Current values:\n",
            "NotebookApp.iopub_data_rate_limit=1000000.0 (bytes/sec)\n",
            "NotebookApp.rate_limit_window=3.0 (secs)\n",
            "\n"
          ],
          "name": "stderr"
        }
      ]
    },
    {
      "metadata": {
        "id": "Be6Dd1GlFUGL",
        "colab_type": "text"
      },
      "cell_type": "markdown",
      "source": [
        "I  then perform data spitting to create the dataset I am going to train my model on,  dividing data into training and testing data sets. We used the first 800.000 texts for training and the last 100.000 for testing.\n",
        "We then split the comments and labels"
      ]
    },
    {
      "metadata": {
        "id": "z-8cB6seqPyU",
        "colab_type": "code",
        "outputId": "5b711c99-7bfa-45e7-9e24-18deed74e94b",
        "colab": {
          "base_uri": "https://localhost:8080/",
          "height": 34
        }
      },
      "cell_type": "code",
      "source": [
        "dataset_x_final = pd.DataFrame(dataset_x)\n",
        "dataset_y_final = pd.DataFrame(dataset['label'])\n",
        "\n",
        "print(dataset_x_final.shape)\n",
        "train_x = dataset_x_final.head(800000)\n",
        "\n",
        "test_x = dataset_x_final.tail(100000)\n",
        "\n",
        "train_y = dataset_y_final.head(800000)\n",
        "\n",
        "test_y = dataset_y_final.tail(100000)\n"
      ],
      "execution_count": 0,
      "outputs": [
        {
          "output_type": "stream",
          "text": [
            "(954151, 20)\n"
          ],
          "name": "stdout"
        }
      ]
    },
    {
      "metadata": {
        "id": "CYC7F861-_e7",
        "colab_type": "text"
      },
      "cell_type": "markdown",
      "source": [
        "# Model compiling, training and testing\n",
        "\n",
        "Using the keras API we created a neural network model to detect irony in small texts. using the sequential method we defined the network's architecture and subsquently we trained and tested its efficiency.\n",
        "\n",
        "Our model is a deep-learning model comprised of an embedding layer used as an input layer. in our expirement we learned our own embeddings using an one hot encoding of the data. Three subsequent layers comprised of pairs of CNNs and Max Pooling. We also added Dropout to the end of each CNN to avoid overffiting phenomena. Finally we a Dense layer as output.\n"
      ]
    },
    {
      "metadata": {
        "id": "mxxmvPQBsEd7",
        "colab_type": "code",
        "colab": {}
      },
      "cell_type": "code",
      "source": [
        "#importing layers \n",
        "from keras.models import Sequential\n",
        "from keras.layers import Dense, Dropout, Activation, Conv1D,MaxPooling1D, Flatten\n",
        "from keras.layers import LSTM , Embedding\n",
        "from keras.regularizers import l2\n",
        "\n",
        "#Bulding the model architecure using the Sequentia API\n",
        "model = Sequential()\n",
        "model.add(Embedding(50000, 128, input_length=20))\n",
        "model.add(Dropout(0.5))\n",
        "model.add(Conv1D(264, 5, activation='relu'))#,bias_initializer='glorot_uniform',kernel_initializer='glorot_uniform'))\n",
        "model.add(MaxPooling1D(pool_size=3))\n",
        "model.add((Dropout(0.25)))\n",
        "model.add(Conv1D(128, 5, activation='relu'))#,bias_initializer='glorot_uniform',kernel_initializer='glorot_uniform'))\n",
        "model.add(MaxPooling1D(pool_size=1))\n",
        "model.add((Dropout(0.25)))\n",
        "model.add(Conv1D(32, 1 ,activation='relu'))#,bias_initializer='glorot_uniform',kernel_initializer='glorot_uniform'))\n",
        "model.add(MaxPooling1D(pool_size=1)) #global max pooling layer\n",
        "model.add((Dropout(0.25)))\n",
        "model.add(Flatten())\n",
        "model.add(Dropout(0.2))\n",
        "model.add(Dense(1, activation='tanh'))"
      ],
      "execution_count": 0,
      "outputs": []
    },
    {
      "metadata": {
        "id": "wkD-dZq7arnM",
        "colab_type": "code",
        "outputId": "912c0f6d-59ce-44aa-9b92-dc5956816e86",
        "colab": {
          "base_uri": "https://localhost:8080/",
          "height": 629
        }
      },
      "cell_type": "code",
      "source": [
        "print(model.summary())"
      ],
      "execution_count": 0,
      "outputs": [
        {
          "output_type": "stream",
          "text": [
            "_________________________________________________________________\n",
            "Layer (type)                 Output Shape              Param #   \n",
            "=================================================================\n",
            "embedding_1 (Embedding)      (None, 20, 128)           6400000   \n",
            "_________________________________________________________________\n",
            "dropout_1 (Dropout)          (None, 20, 128)           0         \n",
            "_________________________________________________________________\n",
            "conv1d_1 (Conv1D)            (None, 16, 264)           169224    \n",
            "_________________________________________________________________\n",
            "max_pooling1d_1 (MaxPooling1 (None, 5, 264)            0         \n",
            "_________________________________________________________________\n",
            "dropout_2 (Dropout)          (None, 5, 264)            0         \n",
            "_________________________________________________________________\n",
            "conv1d_2 (Conv1D)            (None, 1, 128)            169088    \n",
            "_________________________________________________________________\n",
            "max_pooling1d_2 (MaxPooling1 (None, 1, 128)            0         \n",
            "_________________________________________________________________\n",
            "dropout_3 (Dropout)          (None, 1, 128)            0         \n",
            "_________________________________________________________________\n",
            "conv1d_3 (Conv1D)            (None, 1, 32)             4128      \n",
            "_________________________________________________________________\n",
            "max_pooling1d_3 (MaxPooling1 (None, 1, 32)             0         \n",
            "_________________________________________________________________\n",
            "dropout_4 (Dropout)          (None, 1, 32)             0         \n",
            "_________________________________________________________________\n",
            "flatten_1 (Flatten)          (None, 32)                0         \n",
            "_________________________________________________________________\n",
            "dropout_5 (Dropout)          (None, 32)                0         \n",
            "_________________________________________________________________\n",
            "dense_1 (Dense)              (None, 1)                 33        \n",
            "=================================================================\n",
            "Total params: 6,742,473\n",
            "Trainable params: 6,742,473\n",
            "Non-trainable params: 0\n",
            "_________________________________________________________________\n",
            "None\n"
          ],
          "name": "stdout"
        }
      ]
    },
    {
      "metadata": {
        "id": "1ws_jWXDZgx6",
        "colab_type": "text"
      },
      "cell_type": "markdown",
      "source": [
        "After defining the architecture of the model using the Keras API we compile it and train it on our training dataset. "
      ]
    },
    {
      "metadata": {
        "id": "SvyqqjzEx7M3",
        "colab_type": "code",
        "colab": {}
      },
      "cell_type": "code",
      "source": [
        "#this is a custom metric used while training\n",
        "#in order to use the metric you have\n",
        "#to add this callback to the fitting function\n",
        "\n",
        "from sklearn.metrics import f1_score\n",
        "\n",
        "class Metrics(keras.callbacks.Callback):\n",
        "    def on_epoch_end(self, batch, logs={}):\n",
        "        predict = np.asarray(self.model.predict(self.validation_data[0]))\n",
        "        targ = self.validation_data[1]\n",
        "        self.f1s=f1_score(targ, predict)\n",
        "        return\n",
        "\n",
        "\n",
        "      \n",
        "metrics = Metrics()"
      ],
      "execution_count": 0,
      "outputs": []
    },
    {
      "metadata": {
        "id": "MrXIFhsDtFEx",
        "colab_type": "code",
        "outputId": "ffe64d46-acee-4120-dc2d-3c8be2a99b10",
        "colab": {
          "base_uri": "https://localhost:8080/",
          "height": 394
        }
      },
      "cell_type": "code",
      "source": [
        "from keras.callbacks import EarlyStopping\n",
        "\n",
        "from keras.optimizers import Adam\n",
        "\n",
        "opt = keras.optimizers.Adam(lr=0.001)\n",
        "\n",
        "earlystop = EarlyStopping(monitor='val_acc', min_delta=0.0001, patience=1, \\\n",
        "                          verbose=1, mode='auto')\n",
        "callbacks_list = [earlystop]\n",
        "\n",
        "model.compile(loss='mean_squared_logarithmic_error',\n",
        "  optimizer=opt,\n",
        "  metrics=['accuracy'])\n",
        "\n",
        "history = model.fit(train_x, train_y,\n",
        "  batch_size=128,\n",
        "  epochs=10,\n",
        "  verbose=1,\n",
        "  #callbacks=callbacks_list,\n",
        "  validation_split=0.2,\n",
        "  shuffle=True)\n"
      ],
      "execution_count": 0,
      "outputs": [
        {
          "output_type": "stream",
          "text": [
            "Train on 640000 samples, validate on 160000 samples\n",
            "Epoch 1/10\n",
            "640000/640000 [==============================] - 1174s 2ms/step - loss: 0.1020 - acc: 0.6516 - val_loss: 0.0970 - val_acc: 0.6703\n",
            "Epoch 2/10\n",
            "640000/640000 [==============================] - 1163s 2ms/step - loss: 0.0959 - acc: 0.6804 - val_loss: 0.0964 - val_acc: 0.6822\n",
            "Epoch 3/10\n",
            "640000/640000 [==============================] - 1157s 2ms/step - loss: 0.0931 - acc: 0.6942 - val_loss: 0.0970 - val_acc: 0.6810\n",
            "Epoch 4/10\n",
            "640000/640000 [==============================] - 1171s 2ms/step - loss: 0.0905 - acc: 0.7055 - val_loss: 0.0983 - val_acc: 0.6841\n",
            "Epoch 5/10\n",
            "640000/640000 [==============================] - 1171s 2ms/step - loss: 0.0886 - acc: 0.7129 - val_loss: 0.0981 - val_acc: 0.6738\n",
            "Epoch 6/10\n",
            "640000/640000 [==============================] - 1168s 2ms/step - loss: 0.0868 - acc: 0.7215 - val_loss: 0.0982 - val_acc: 0.6748\n",
            "Epoch 7/10\n",
            "640000/640000 [==============================] - 1162s 2ms/step - loss: 0.0852 - acc: 0.7270 - val_loss: 0.0986 - val_acc: 0.6715\n",
            "Epoch 8/10\n",
            "640000/640000 [==============================] - 1165s 2ms/step - loss: 0.0838 - acc: 0.7324 - val_loss: 0.1012 - val_acc: 0.6719\n",
            "Epoch 9/10\n",
            "640000/640000 [==============================] - 1171s 2ms/step - loss: 0.0826 - acc: 0.7364 - val_loss: 0.1028 - val_acc: 0.6745\n",
            "Epoch 10/10\n",
            "640000/640000 [==============================] - 1169s 2ms/step - loss: 0.0814 - acc: 0.7398 - val_loss: 0.1018 - val_acc: 0.6692\n"
          ],
          "name": "stdout"
        }
      ]
    },
    {
      "metadata": {
        "id": "cQacFNAiZz4-",
        "colab_type": "text"
      },
      "cell_type": "markdown",
      "source": [
        "Finally we evaluate the model on our testing data-set"
      ]
    },
    {
      "metadata": {
        "id": "QWDtzAxhtizc",
        "colab_type": "code",
        "outputId": "9adfead6-af21-4396-b8e5-c4a778b30298",
        "colab": {
          "base_uri": "https://localhost:8080/",
          "height": 51
        }
      },
      "cell_type": "code",
      "source": [
        "model.evaluate(x=test_x, y=test_y, batch_size=32, verbose=1, sample_weight=None, steps=None)"
      ],
      "execution_count": 0,
      "outputs": [
        {
          "output_type": "stream",
          "text": [
            "100000/100000 [==============================] - 15s 155us/step\n"
          ],
          "name": "stdout"
        },
        {
          "output_type": "execute_result",
          "data": {
            "text/plain": [
              "[0.10148728538632393, 0.66862]"
            ]
          },
          "metadata": {
            "tags": []
          },
          "execution_count": 26
        }
      ]
    },
    {
      "metadata": {
        "id": "xzjNawe_53qg",
        "colab_type": "text"
      },
      "cell_type": "markdown",
      "source": [
        "# Visualising results\n",
        "\n",
        "In this section I  created graphic representations  to better visualize the model's attributes. In the first part you can find a bi-dimenstional visualization of the embeddings, and a simple plot of the metrics over epochs trained"
      ]
    },
    {
      "metadata": {
        "id": "uOXwUW6eZ0RP",
        "colab_type": "code",
        "colab": {}
      },
      "cell_type": "code",
      "source": [
        "import plotly.plotly as py\n",
        "import matplotlib.pyplot as plt\n",
        "from sklearn.manifold import TSNE\n",
        "import plotly.graph_objs as go"
      ],
      "execution_count": 0,
      "outputs": []
    },
    {
      "metadata": {
        "id": "bZq39ZLMJA92",
        "colab_type": "code",
        "outputId": "017655b9-4c97-45e2-efd1-ca8c9c807283",
        "colab": {
          "base_uri": "https://localhost:8080/",
          "height": 413
        }
      },
      "cell_type": "code",
      "source": [
        "\n",
        "\n",
        "## Get weights\n",
        "conv_embds = model.layers[0].get_weights()[0]\n",
        "## Plotting function\n",
        "\n",
        "def plot_words(data, start, stop, step):\n",
        "  x = data[start:stop:step,0]\n",
        "  y = data[start:stop:step, 1]\n",
        "  colors = (0,0,0)\n",
        "  area = np.pi*3\n",
        "  plt.scatter(x, y, s=area, c=colors, alpha=0.5)\n",
        "  plt.title('Scatter plot of Embeddings')\n",
        "  plt.xlabel('x')\n",
        "  plt.ylabel('y')\n",
        "  plt.show()\n",
        "\n",
        "## Visualize words in two dimensions \n",
        "conv_tsne_embds = TSNE(n_components=2).fit_transform(conv_embds)\n",
        "plot_words(conv_tsne_embds, 0, 2000, 1)\n",
        "\n",
        "\n",
        "\n",
        "#plt.plot(conv_tsne_embds)"
      ],
      "execution_count": 0,
      "outputs": [
        {
          "output_type": "stream",
          "text": [
            "'c' argument looks like a single numeric RGB or RGBA sequence, which should be avoided as value-mapping will have precedence in case its length matches with 'x' & 'y'.  Please use a 2-D array with a single row if you really want to specify the same RGB or RGBA value for all points.\n"
          ],
          "name": "stderr"
        },
        {
          "output_type": "display_data",
          "data": {
            "image/png": "[encoded data removed]",
            "text/plain": [
              "<Figure size 576x396 with 1 Axes>"
            ]
          },
          "metadata": {
            "tags": []
          }
        }
      ]
    },
    {
      "metadata": {
        "id": "a35jvn85M5eO",
        "colab_type": "text"
      },
      "cell_type": "markdown",
      "source": [
        "By using the history structure of the Keras API we can easily plot the progress of our metrics such as, training and validation, accuracy and loss."
      ]
    },
    {
      "metadata": {
        "id": "oWMNMotsaIpu",
        "colab_type": "code",
        "colab": {}
      },
      "cell_type": "code",
      "source": [
        "def plot_history(history):\n",
        "    loss_list = [s for s in history.history.keys() if 'loss' in s and 'val' not in s]\n",
        "    val_loss_list = [s for s in history.history.keys() if 'loss' in s and 'val' in s]\n",
        "    acc_list = [s for s in history.history.keys() if 'acc' in s and 'val' not in s]\n",
        "    val_acc_list = [s for s in history.history.keys() if 'acc' in s and 'val' in s]\n",
        "    \n",
        "    if len(loss_list) == 0:\n",
        "        print('Loss is missing in history')\n",
        "        return \n",
        "    \n",
        "    ## As loss always exists\n",
        "    epochs = range(1,len(history.history[loss_list[0]]) + 1)\n",
        "    \n",
        "    ## Loss\n",
        "    plt.figure(1)\n",
        "    for l in loss_list:\n",
        "        plt.plot(epochs, history.history[l], 'b', label='Training loss (' + str(str(format(history.history[l][-1],'.5f'))+')'))\n",
        "    for l in val_loss_list:\n",
        "        plt.plot(epochs, history.history[l], 'g', label='Validation loss (' + str(str(format(history.history[l][-1],'.5f'))+')'))\n",
        "    \n",
        "    plt.title('Loss')\n",
        "    plt.xlabel('Epochs')\n",
        "    plt.ylabel('Loss')\n",
        "    plt.legend()\n",
        "    \n",
        "    ## Accuracy\n",
        "    plt.figure(2)\n",
        "    for l in acc_list:\n",
        "        plt.plot(epochs, history.history[l], 'b', label='Training accuracy (' + str(format(history.history[l][-1],'.5f'))+')')\n",
        "    for l in val_acc_list:    \n",
        "        plt.plot(epochs, history.history[l], 'g', label='Validation accuracy (' + str(format(history.history[l][-1],'.5f'))+')')\n",
        "\n",
        "    plt.title('Accuracy')\n",
        "    plt.xlabel('Epochs')\n",
        "    plt.ylabel('Accuracy')\n",
        "    plt.legend()\n",
        "    plt.show()"
      ],
      "execution_count": 0,
      "outputs": []
    },
    {
      "metadata": {
        "id": "OGRVofWUdbdA",
        "colab_type": "code",
        "outputId": "810b3355-6e1c-4359-8180-8426a65b880d",
        "colab": {
          "base_uri": "https://localhost:8080/",
          "height": 735
        }
      },
      "cell_type": "code",
      "source": [
        "plot_history(history)"
      ],
      "execution_count": 0,
      "outputs": [
        {
          "output_type": "display_data",
          "data": {
            "image/png": "[encoded data removed]",
            "text/plain": [
              "<Figure size 576x396 with 1 Axes>"
            ]
          },
          "metadata": {
            "tags": []
          }
        },
        {
          "output_type": "display_data",
          "data": {
            "image/png": "[encoded data removed]",
            "text/plain": [
              "<Figure size 576x396 with 1 Axes>"
            ]
          },
          "metadata": {
            "tags": []
          }
        }
      ]
    }
  ]
}